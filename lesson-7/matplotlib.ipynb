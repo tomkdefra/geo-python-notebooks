{
 "cells": [
  {
   "cell_type": "markdown",
   "metadata": {},
   "source": [
    "# Basic plotting with pandas and Matplotlib\n",
    "\n",
    "Finnish university students are encouraged to use the CSC Notebooks platform.<br/>\n",
    "<a href=\"https://notebooks.csc.fi/\"><img alt=\"CSC badge\" src=\"https://img.shields.io/badge/launch-CSC%20notebook-blue.svg\" style=\"vertical-align:text-bottom\"></a>\n",
    "\n",
    "**Note**: We do not recommended using Binder for this lesson.\n",
    "\n",
    "As we're now familiar with some of the features of [pandas](https://pandas.pydata.org/), we will wade into visualizing our data in Python using the built-in plotting options available directly in pandas. Much like the case of pandas being built upon [NumPy](https://numpy.org/), plotting in pandas takes advantage of plotting features from the [Matplotlib](https://matplotlib.org/) plotting library. Plotting in pandas provides a basic framework for visualizing our data, but as you'll see we will sometimes need to also use features from Matplotlib to enhance our plots. In particular, we will use features from the the `pyplot` module in Matplotlib, which provides [MATLAB](https://www.mathworks.com/products/matlab.html)-like plotting.\n",
    "\n",
    "Toward the end of the lesson we will also briefly explore creating interactive plots using the [hvPlot](https://hvplot.holoviz.org/) plotting API, which allows us to produce plots similar to those available in the [Bokeh plotting library](https://docs.bokeh.org/en/latest/index.html) using plotting syntax similar to that used normally in pandas."
   ]
  },
  {
   "cell_type": "markdown",
   "metadata": {},
   "source": [
    "## Input data\n",
    "\n",
    "In the lesson this week we are using a subset of the weather observation data from Finland used in Lesson 6, which was downloaded from the [NOAA online databases](https://www.ncei.noaa.gov/cdo-web/). In this case we'll focus on weather observation station data from the Helsinki-Vantaa airport.\n",
    "\n",
    "In case you are working with Jupyter Lab installed on your own computer, Lesson 6 covered [how to download the weather data](https://geo-python-site.readthedocs.io/en/latest/notebooks/L6/advanced-data-processing-with-pandas.html#downloading-the-data). **Those using the CSC Notebooks do not need to download the data**.\n",
    "\n",
    "## About the data\n",
    "\n",
    "As part of the download there are a number of files that describe the weather data. These *metadata* files include:\n",
    "\n",
    "- A list of stations: [6367598020644stn.txt](metadata/6367598020644stn.txt)\n",
    "- Details about weather observations at each station: [6367598020644inv.txt](metadata/6367598020644inv.txt)\n",
    "- A data description (i.e., column names): [3505doc.txt](metadata/3505doc.txt)\n",
    "\n",
    "The input data for this week are separated with varying number of spaces (i.e., fixed width). The first lines and columns of the data look like following:\n",
    "\n",
    "``` \n",
    "  USAF  WBAN YR--MODAHRMN DIR SPD GUS CLG SKC L M H  VSB MW MW MW MW AW AW AW AW W TEMP DEWP    SLP   ALT    STP MAX MIN PCP01 PCP06 PCP24 PCPXX SD\n",
    "029740 99999 195201010000 200  23 ***  15 OVC 7 2 *  5.0 63 ** ** ** ** ** ** ** 6   36   32  989.2 ***** ****** *** *** ***** ***** ***** ***** **\n",
    "029740 99999 195201010600 220  18 ***   8 OVC 7 2 *  2.2 63 ** ** ** ** ** ** ** 6   37   37  985.9 ***** ****** ***  34 ***** ***** ***** ***** **\n",
    "029740 99999 195201011200 220  21 ***   5 OVC 7 * *  3.8 59 ** ** ** ** ** ** ** 5   39   36  988.1 ***** ****** *** *** ***** ***** ***** ***** **\n",
    "029740 99999 195201011800 250  16 *** 722 CLR 0 0 0 12.5 02 ** ** ** ** ** ** ** 5   36   27  991.9 ***** ******  39 *** ***** ***** ***** ***** **\n",
    "```"
   ]
  },
  {
   "cell_type": "markdown",
   "metadata": {},
   "source": [
    "## Getting started\n",
    "\n",
    "Let's start by importing pandas and reading our data file."
   ]
  },
  {
   "cell_type": "code",
   "execution_count": null,
   "metadata": {},
   "outputs": [],
   "source": [
    "import pandas as pd"
   ]
  },
  {
   "cell_type": "markdown",
   "metadata": {},
   "source": [
    "#### Datetime in Python\n",
    "\n",
    "For the lesson this week we will be using a datetime index for our weather observations.\n",
    "We did not cover the datetime data type in detail in Lesson 6, but you can find [a brief introduction to datetime in the Lesson 6 materials](https://geo-python-site.readthedocs.io/en/latest/notebooks/L6/advanced-data-processing-with-pandas.html#datetime-optional-for-lesson-6).\n",
    "\n",
    "Just as we did last week, we'll read our data file by passing a few parameters to the Pandas `read_csv()` function. In this case, however, we'll include a few additional parameters in order to read the data with a *datetime index*. Let's read the data first and then see what happened."
   ]
  },
  {
   "cell_type": "code",
   "execution_count": null,
   "metadata": {},
   "outputs": [],
   "source": [
    "# Define absolute path to the file\n",
    "fp = r\"/home/jovyan/shared/data/L6/029740.txt\""
   ]
  },
  {
   "cell_type": "code",
   "execution_count": null,
   "metadata": {},
   "outputs": [],
   "source": [
    "data = pd.read_csv(\n",
    "    fp,\n",
    "    delim_whitespace=True,\n",
    "    na_values=[\"*\", \"**\", \"***\", \"****\", \"*****\", \"******\"],\n",
    "    usecols=[\"YR--MODAHRMN\", \"TEMP\", \"MAX\", \"MIN\"],\n",
    "    parse_dates=[\"YR--MODAHRMN\"],\n",
    "    index_col=\"YR--MODAHRMN\",\n",
    ")"
   ]
  },
  {
   "cell_type": "markdown",
   "metadata": {},
   "source": [
    "So what's different here? Well, we have added two new parameters: `parse_dates` and `index_col`.\n",
    "\n",
    "- `parse_dates` takes a Python list of column name(s) containing date data that Pandas will parse and convert to the *datetime* data type. For many common date formats this parameter will automatically recognize and convert the date data.\n",
    "- `index_col` is used to state a column that should be used to index the data in the DataFrame. In this case, we end up with our date data as the DataFrame index. This is a very useful feature in pandas as we'll see below.\n",
    "\n",
    "Having read in the data, let's have a quick look at what we have using `data.head()`."
   ]
  },
  {
   "cell_type": "code",
   "execution_count": null,
   "metadata": {},
   "outputs": [],
   "source": [
    "data.head()"
   ]
  },
  {
   "cell_type": "markdown",
   "metadata": {},
   "source": [
    "As mentioned above, you can now see that the index column for our DataFrame (the first column) contains date values related to each row in the DataFrame."
   ]
  },
  {
   "cell_type": "markdown",
   "metadata": {},
   "source": [
    "## Basic x-y plot\n",
    "\n",
    "Now we're ready for our first plot. We can start by using the basic line plot in pandas to look at our temperature data."
   ]
  },
  {
   "cell_type": "code",
   "execution_count": null,
   "metadata": {},
   "outputs": [],
   "source": []
  },
  {
   "cell_type": "markdown",
   "metadata": {},
   "source": [
    "If all goes well, you should see the plot above.\n",
    "\n",
    "OK, so what happened here?\n",
    "\n",
    "1. We first created the plot object using the `plot()` method of the `data` DataFrame. Without any parameters given, this makes the plot of all columns in the DataFrame as lines of different color on the y-axis with the index, time in this case, on the x-axis.\n",
    "2. In case we want to be able to modify the plot or add anything, we assign the plot object to the variable `ax`. We can check its type below.\n",
    "\n",
    "In fact, let's check the type of the `ax` variable now."
   ]
  },
  {
   "cell_type": "code",
   "execution_count": null,
   "metadata": {},
   "outputs": [],
   "source": []
  },
  {
   "cell_type": "markdown",
   "metadata": {},
   "source": [
    "OK, so it looks like we have some kind of plot data type that is part of Matplotlib. Clearly, pandas is using Matplotlib for generating our plots.\n",
    "\n",
    "### Selecting our plotted data\n",
    "\n",
    "Now, let's make a few small changes to our plot and plot the data again. First, let's only plot the observed temperatures in the `data['TEMP']` column, and let's restrict ourselves to observations from the afternoon of October 1, 2019 (the last day in our dataset). We can do this by selecting the desired data column and date range first, then plotting our selection."
   ]
  },
  {
   "cell_type": "code",
   "execution_count": null,
   "metadata": {},
   "outputs": [],
   "source": []
  },
  {
   "cell_type": "markdown",
   "metadata": {},
   "source": [
    "So, what did we change?\n",
    "\n",
    "1. Well, we selected only the `'TEMP'` column now by using `data['TEMP']` instead of `data`.\n",
    "2. We've added a restriction to the date range using `loc[]` to select only rows where the index value `data.index` is greater than `'201910011200'`. In that case, the number in the string is in the format `'YYYYMMDDHHMM'`, where `YYYY` is the year, `MM` is the month, `DD` is the day, `HH` is the hour, and `MM` is the minute. Now we have all observations from noon onward on October 1, 2019.\n",
    "3. By saving this selection to the DataFrame `oct1_temps` we're able to now use `oct1_temps.plot()` to plot only our selection. This is cool, but we can do even better..."
   ]
  },
  {
   "cell_type": "markdown",
   "metadata": {},
   "source": [
    "## Basic plot formatting\n",
    "\n",
    "We can make our plot look a bit nicer and provide more information by using a few additional plotting options to pandas/Matplotlib."
   ]
  },
  {
   "cell_type": "code",
   "execution_count": null,
   "metadata": {},
   "outputs": [],
   "source": [
    "# Change line and symbol format, and add axis labels/title\n"
   ]
  },
  {
   "cell_type": "markdown",
   "metadata": {},
   "source": [
    "Now we see our temperature data as a red dashed line with circles showing the data points.\n",
    "This comes from the additional `style='ro--'` used with `oct1_temps.plot()`.\n",
    "In this case, `r` tells the `oct1_temps.plot()` function to use red color for the lines and symbols, `o` tells it to show circles at the points, and `--` says to use a dashed line.\n",
    "You can use `help(oct1_temps.plot)` to find out more about formatting plots or have a look at the [documentation on the pandas website](https://pandas.pydata.org/pandas-docs/stable/reference/api/pandas.DataFrame.plot.line.html#pandas.DataFrame.plot.line).\n",
    "We have also added a title using the `title` parameter, and axis labels using the `xlabel` and `ylabel` parameters."
   ]
  },
  {
   "cell_type": "code",
   "execution_count": null,
   "metadata": {},
   "outputs": [],
   "source": []
  },
  {
   "cell_type": "markdown",
   "metadata": {},
   "source": [
    "### Embiggening\\* the plot\n",
    "\n",
    "While the plot sizes we're working with are OK, it would be nice to have them displayed a bit larger.\n",
    "Fortunately, there is an easy way to make the plots larger in pandas/Matplotlib.\n",
    "We can simply add the `figsize` parameter with the desired figure size listed as a tuple (a set of values in normal parentheses) that lists the width and height of the figure (in inches!)."
   ]
  },
  {
   "cell_type": "code",
   "execution_count": null,
   "metadata": {},
   "outputs": [],
   "source": [
    "# Adjust the figure size\n"
   ]
  },
  {
   "cell_type": "markdown",
   "metadata": {},
   "source": [
    "The cell above sets the default plot size to be 12 inches wide by 6 inches tall.\n",
    "Feel free to change these values if you prefer.\n",
    "\n",
    "**Note**: It is also possible to change the default figure size for all figures in a Jupyter Notebook by importing the pyplot module from matplotlib (i.e., `import matplotlib.pyplot as plt`)and then defining the default figure size using `plt.rcParams['figure.figsize'] = [12, 6]`. In this case the figure size should be given as a Python list.\n",
    "\n",
    "\\* To [embiggen](https://www.dictionary.com/browse/embiggen) means to enlarge.\n",
    "It's a perfectly [cromulent](https://www.dictionary.com/browse/cromulent) word."
   ]
  },
  {
   "cell_type": "markdown",
   "metadata": {},
   "source": [
    "### Other common plot formatting operations\n",
    "\n",
    "#### Adding text to the plot\n",
    "\n",
    "Adding text to plots can be done using `ax.text()`.\n",
    "\n",
    "```python\n",
    "ax.text(x, y, 'Text to display')\n",
    "```\n",
    "\n",
    "This would display \"Text to display\" at the location *x*, *y* on the plot.\n",
    "We'll see how to do this in a live example in just a second.\n",
    "\n",
    "#### Changing the axis ranges\n",
    "\n",
    "Changing the plot axes can be done using the `xlim` and `ylim` parameters of the `plot()` function\n",
    "\n",
    "```python\n",
    "df.plot(xlim=[xmin, xmax], ylim=[ymin, ymax])\n",
    "```\n",
    "\n",
    "where `xmin` should be the minimum bound of the x-axis, `xmax` should be the maximum bound, and the same goes for the y-axis with `ymin` and `ymax`.\n",
    "\n",
    "#### Dealing with datetime axes\n",
    "\n",
    "One issue we will encounter with both placing text on the plot and changing the axis ranges is our datetime index for our DataFrame. In order to do either thing, we need to define x-values using a datetime object. The easiest way to do this is to use the Pandas `pd.to_datetime()` function, which converts a character string date to a datetime object. For example, we can convert 13:00 on October 1, 2019 from the character string `'201910011300'` to a datetime equivalent by typing"
   ]
  },
  {
   "cell_type": "code",
   "execution_count": null,
   "metadata": {},
   "outputs": [],
   "source": []
  },
  {
   "cell_type": "markdown",
   "metadata": {},
   "source": [
    "With this datetime issue in mind, let's now consider a modified version of the plot above, we can\n",
    "\n",
    "1. Limit our time range to 12:00 to 15:00 on October 1, 2019\n",
    "2. Only look at temperatures between 40-46° Fahrenheit\n",
    "3. Add text to note the coldest part of the early afternoon."
   ]
  },
  {
   "cell_type": "code",
   "execution_count": null,
   "metadata": {},
   "outputs": [],
   "source": [
    "# Define the start, end, and cold times\n",
    "\n",
    "\n",
    "\n",
    "\n",
    "# Create the plot, including the axis limits\n",
    "ax = oct1_temps.plot(\n",
    "    style=\"ro--\",\n",
    "    title=\"Helsinki-Vantaa temperatures\",\n",
    "    xlabel=\"Date and time\",\n",
    "    ylabel=\"Temperature [°F]\",\n",
    "    figsize=(12, 6),\n",
    "\n",
    "\n",
    ")\n",
    "\n",
    "# Add text to display the coldest temperature\n"
   ]
  },
  {
   "cell_type": "markdown",
   "metadata": {},
   "source": [
    "### Check your understanding\n",
    "\n",
    "Create a line plot similar to our examples above with the following attributes:\n",
    "    \n",
    "- Temperature data from 18:00-24:00 on October 1, 2019\n",
    "- A dotted black line connecting the observations (do not show the data points)\n",
    "- A title that reads \"Evening temperatures on October 1, Helsinki-Vantaa\"\n",
    "- A text label indicating the warmest temperature in the evening"
   ]
  },
  {
   "cell_type": "code",
   "execution_count": null,
   "metadata": {
    "tags": [
     "hide-cell"
    ]
   },
   "outputs": [],
   "source": [
    "# Enter your solution below\n"
   ]
  },
  {
   "cell_type": "markdown",
   "metadata": {},
   "source": [
    "## Bar plots in pandas\n",
    "\n",
    "In addition to line plots, there are many other options for plotting in pandas. Bar plots are one option, which can be used quite similarly to line plots with the addition of the `kind=bar` parameter. Note that it is easiest to plot our selected time range for a bar plot by selecting the dates in our data series first, rather than adjusting the plot limits. pandas sees bar plot data as categorical, so the date range is more difficult to define for x-axis limits. For the y-axis, we can still define its range using the `ylim=[ymin, ymax]` parameter. Similarly, text placement on a bar plot is more difficult, and most easily done using the index value of the bar where the text should be placed."
   ]
  },
  {
   "cell_type": "code",
   "execution_count": null,
   "metadata": {},
   "outputs": [],
   "source": [
    "# Define time range\n",
    "oct1_afternoon = oct1_temps.loc[oct1_temps.index <= \"201910011500\"]\n",
    "\n",
    "# Create bar plot\n",
    "ax = oct1_afternoon.plot(\n",
    "    kind=\"bar\",\n",
    "    title=\"Helsinki-Vantaa temperatures\",\n",
    "    xlabel=\"Date and time\",\n",
    "    ylabel=\"Temperature [°F]\",\n",
    "    figsize=(12, 6),\n",
    "    ylim=[40, 46],\n",
    ")\n",
    "\n",
    "# Add plot text\n",
    "ax.text(0, 42.1, \"Coldest \\ntemp \\nv\")"
   ]
  },
  {
   "cell_type": "markdown",
   "metadata": {},
   "source": [
    "You can find more about how to format bar charts on the [pandas documentation website](https://pandas.pydata.org/pandas-docs/stable/reference/api/pandas.DataFrame.plot.bar.html)."
   ]
  },
  {
   "cell_type": "markdown",
   "metadata": {},
   "source": [
    "## Saving your plots as image files\n",
    "\n",
    "Saving plots created using pandas can be done in several ways. The recommendation for use outside of Jupyter notebooks is to use Matplotlib's `plt.savefig()` function. When using `plt.savefig()`, you simply give a list of commands to generate a plot and include `plt.savefig()` with some parameters as the last command in the Python cell. The file name is required, and the image format will be determined based on the listed file extension. Note that because we have not used Matplotlib for any of the earlier plots, we need to import it here first.\n",
    "\n",
    "Matplotlib plots can be saved in a number of useful file formats, including PNG, PDF, and EPS. PNG is a nice format for raster images, and EPS is probably easiest to use for vector graphics. Let's check out an example and save our lovely bar plot."
   ]
  },
  {
   "cell_type": "code",
   "execution_count": null,
   "metadata": {},
   "outputs": [],
   "source": [
    "# Import matplotlib\n",
    "import matplotlib.pyplot as plt\n",
    "\n",
    "# Create bar plot\n",
    "ax = oct1_afternoon.plot(\n",
    "    kind=\"bar\",\n",
    "    title=\"Helsinki-Vantaa temperatures\",\n",
    "    xlabel=\"Date and time\",\n",
    "    ylabel=\"Temperature [°F]\",\n",
    "    figsize=(12, 6),\n",
    "    ylim=[40, 46],\n",
    ")\n",
    "\n",
    "# Add plot text\n",
    "ax.text(0, 42.1, \"Coldest \\ntemp \\nv\")\n",
    "\n",
    "# Save plot to file\n"
   ]
  },
  {
   "cell_type": "markdown",
   "metadata": {},
   "source": [
    "If you refresh your **Files** tab on the left side of the JupyterLab window you should now see `bar-plot.png` listed.\n",
    "We could try to save another version in higher resolution with a minor change to our plot commands above."
   ]
  },
  {
   "cell_type": "code",
   "execution_count": null,
   "metadata": {},
   "outputs": [],
   "source": [
    "# Create bar plot\n",
    "ax = oct1_afternoon.plot(\n",
    "    kind=\"bar\",\n",
    "    title=\"Helsinki-Vantaa temperatures\",\n",
    "    xlabel=\"Date and time\",\n",
    "    ylabel=\"Temperature [°F]\",\n",
    "    figsize=(12, 6),\n",
    "    ylim=[40, 46],\n",
    ")\n",
    "\n",
    "# Add plot text\n",
    "ax.text(0, 42.1, \"Coldest \\ntemp \\nv\")\n",
    "\n",
    "# Save plot to file (high resolution, PDF)\n"
   ]
  },
  {
   "cell_type": "markdown",
   "metadata": {},
   "source": [
    "## Interactive plotting, a teaser (optional)\n",
    "\n",
    "One of the cool things in Jupyter notebooks is that our plots need not be static. We can easily create plots that are interactive, allowing us to view data values by mousing over them, or to click to enable/disable plotting of some data. There are various libraries we could use to do this, but we'll use the [hvPlot plotting API](https://hvplot.holoviz.org/), which allows us to create interactive plots with little additional effort.\n",
    "\n",
    "[hvPlot](https://hvplot.holoviz.org/) is a high-level plotting package that can accept several different common Python data types and plot them using using the [bokeh visualization library](http://bokeh.org/). The great thing with hvPlot is that it takes almost no effort to move from plotting in pandas to creating interactive plots.\n",
    "\n",
    "To get started, we need to import the pandas submodule of hvPlot."
   ]
  },
  {
   "cell_type": "code",
   "execution_count": null,
   "metadata": {},
   "outputs": [],
   "source": [
    "import hvplot.pandas"
   ]
  },
  {
   "cell_type": "markdown",
   "metadata": {},
   "source": [
    "With the submodule imported, we can simply take a slice of data from the `data` DataFrame, the month of July in 2014 in this case, and create a plot just as we would in pandas. The only difference here is that we will use the `hvplot()` method rather than the `plot()` method from pandas."
   ]
  },
  {
   "cell_type": "code",
   "execution_count": null,
   "metadata": {},
   "outputs": [],
   "source": [
    "july2014_df = data.loc[(data.index >= \"201407010000\") & (data.index < \"201407310000\")]\n",
    "\n",
    "july2014_df.hvplot(\n",
    "    title=\"Helsinki-Vantaa temperatures\",\n",
    "    xlabel=\"Date\",\n",
    "    ylabel=\"Temperature [°F]\",\n",
    "    ylim=[45.0, 90.0],\n",
    ")"
   ]
  },
  {
   "cell_type": "markdown",
   "metadata": {},
   "source": [
    "Now we have an interactive line plot where you can place your mouse cursor above the line to see the plotted values at a given location, zoom in and/or pan the plot to areas of interest, and click on the legend items to hide or display them. And as you can see, hvPlot makes it very easy to start creating your own interactive plots from pandas DataFrames.\n",
    "\n",
    "That is all we will explore for the moment, but you are welcome to have a look at the [hvPlot User Guide](https://hvplot.holoviz.org/user_guide/index.html) to learn more about the types of visualizations available in hvPlot and how to use them."
   ]
  }
 ],
 "metadata": {
  "kernelspec": {
   "display_name": "Python 3 (ipykernel)",
   "language": "python",
   "name": "python3"
  },
  "language_info": {
   "codemirror_mode": {
    "name": "ipython",
    "version": 3
   },
   "file_extension": ".py",
   "mimetype": "text/x-python",
   "name": "python",
   "nbconvert_exporter": "python",
   "pygments_lexer": "ipython3",
   "version": "3.10.12"
  }
 },
 "nbformat": 4,
 "nbformat_minor": 4
}
